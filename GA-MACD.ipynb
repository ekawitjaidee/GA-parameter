{
 "metadata": {
  "language_info": {
   "codemirror_mode": {
    "name": "ipython",
    "version": 3
   },
   "file_extension": ".py",
   "mimetype": "text/x-python",
   "name": "python",
   "nbconvert_exporter": "python",
   "pygments_lexer": "ipython3",
   "version": "3.7.6-final"
  },
  "orig_nbformat": 2,
  "kernelspec": {
   "name": "python3",
   "display_name": "Python 3",
   "language": "python"
  }
 },
 "nbformat": 4,
 "nbformat_minor": 2,
 "cells": [
  {
   "cell_type": "code",
   "execution_count": 35,
   "metadata": {},
   "outputs": [],
   "source": [
    "from Indicator import Indicator \n",
    "import random\n",
    "import glob\n",
    "import numpy as np\n",
    "import pandas as pd\n",
    "\n",
    "random.seed(0)\n",
    "\n",
    "datalist = [n for n in glob.glob('Dataset/*.csv')]\n",
    "indicator = Indicator()"
   ]
  },
  {
   "cell_type": "code",
   "execution_count": 36,
   "metadata": {},
   "outputs": [],
   "source": [
    "def initial_population(n):#number Population\n",
    "    pop = []\n",
    "    for i in range(n):\n",
    "        pop.append([[random.randint(1,60),random.randint(1,60),random.randint(1,40)],0])\n",
    "    return pop\n",
    "\n",
    "def cal_fitness(pop):\n",
    "    newpop = []\n",
    "    for cm in pop:\n",
    "        fitness = 0\n",
    "        df = pd.read_csv(datalist[0],index_col = False)\n",
    "        df = indicator.MACD(df,cm[0][0],cm[0][1],cm[0][2])\n",
    "        df['signal']  = np.where((df['MACD']>df['SIGNAL LINE'])&(df['MACD'].shift()<df['SIGNAL LINE'].shift()),'buy',\n",
    "                                  (np.where((df['MACD'] < df['SIGNAL LINE'])  & (df['MACD'].shift()>df['SIGNAL LINE'].shift()),'sell','wait or hold')))\n",
    "        \n",
    "        for index,row in df.iterrows():\n",
    "            if row['signal'] == 'buy' and row['Signal'] == 'buy':\n",
    "                fitness += 1\n",
    "            elif row['signal'] == 'sell' and row['Signal'] == 'sell':\n",
    "                fitness += 1\n",
    "        newpop.append([cm[0],fitness])\n",
    "    return newpop\n",
    "        \n",
    "\n"
   ]
  },
  {
   "cell_type": "code",
   "execution_count": 41,
   "metadata": {},
   "outputs": [
    {
     "output_type": "stream",
     "name": "stdout",
     "text": [
      "[[[39, 44, 5], 0], [[2, 8, 13], 0], [[39, 54, 37], 0], [[8, 26, 6], 0], [[24, 54, 8], 0], [[3, 39, 2], 0], [[13, 12, 8], 0], [[31, 14, 4], 0], [[60, 44, 2], 0], [[35, 28, 40], 0]]\n"
     ]
    }
   ],
   "source": [
    "print(initial_population(10))\n",
    "pop = initial_population(10)\n",
    "pop = cal_fitness(pop)\n",
    "pop = sorted(pop,key=lambda l:l[1],reverse=True)\n"
   ]
  },
  {
   "cell_type": "code",
   "execution_count": 42,
   "metadata": {},
   "outputs": [
    {
     "output_type": "execute_result",
     "data": {
      "text/plain": [
       "[[[5, 15, 5], 80],\n",
       " [[28, 12, 4], 41],\n",
       " [[7, 54, 17], 39],\n",
       " [[13, 17, 23], 35],\n",
       " [[11, 45, 14], 34],\n",
       " [[33, 30, 3], 27],\n",
       " [[39, 7, 26], 16],\n",
       " [[58, 47, 31], 10],\n",
       " [[42, 20, 23], 8],\n",
       " [[54, 58, 37], 5]]"
      ]
     },
     "metadata": {},
     "execution_count": 42
    }
   ],
   "source": []
  },
  {
   "cell_type": "code",
   "execution_count": null,
   "metadata": {},
   "outputs": [],
   "source": []
  }
 ]
}