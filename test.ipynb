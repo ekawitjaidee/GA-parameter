{
 "metadata": {
  "language_info": {
   "codemirror_mode": {
    "name": "ipython",
    "version": 3
   },
   "file_extension": ".py",
   "mimetype": "text/x-python",
   "name": "python",
   "nbconvert_exporter": "python",
   "pygments_lexer": "ipython3",
   "version": "3.7.6-final"
  },
  "orig_nbformat": 2,
  "kernelspec": {
   "name": "python3",
   "display_name": "Python 3.7.6 64-bit (conda)",
   "metadata": {
    "interpreter": {
     "hash": "4886e674fe86673a5750a861301691c1ae6d5a8b61870b44beeeceefda082a48"
    }
   }
  }
 },
 "nbformat": 4,
 "nbformat_minor": 2,
 "cells": [
  {
   "cell_type": "code",
   "execution_count": 2,
   "metadata": {},
   "outputs": [],
   "source": [
    "from Indicator import Indicator \n",
    "import random\n",
    "import glob\n",
    "import numpy as np\n",
    "import pandas as pd\n",
    "import matplotlib.pyplot as plt\n",
    "\n",
    "\n",
    "datalist = [n for n in glob.glob('Dataset/*.csv')]\n",
    "indicator = Indicator()\n",
    "data = pd.read_csv(datalist[0],index_col = False)\n"
   ]
  },
  {
   "cell_type": "code",
   "execution_count": 3,
   "metadata": {},
   "outputs": [],
   "source": [
    "df = data\n",
    "df = indicator.MACD(df,12,26,9)\n",
    "a  = np.where((df['MACD']>df['SIGNAL LINE'])&(df['MACD'].shift()<df['SIGNAL LINE'].shift()),df['Close'],\n",
    "                                  (np.where((df['MACD'] < df['SIGNAL LINE'])  & (df['MACD'].shift()>df['SIGNAL LINE'].shift()),'sell',np.nan)))\n",
    "        "
   ]
  },
  {
   "cell_type": "code",
   "execution_count": 16,
   "metadata": {},
   "outputs": [],
   "source": [
    "b = df.loc[(df['MACD']>df['SIGNAL LINE'])&(df['MACD'].shift()<df['SIGNAL LINE'].shift())]['Close']\n",
    "bd = df.loc[(df['MACD']>df['SIGNAL LINE'])&(df['MACD'].shift()<df['SIGNAL LINE'].shift())].index\n",
    "\n",
    "s = df.loc[(df['MACD'] < df['SIGNAL LINE'])  & (df['MACD'].shift()>df['SIGNAL LINE'].shift())]['Close']\n",
    "sd = df.loc[(df['MACD'] < df['SIGNAL LINE'])  & (df['MACD'].shift()>df['SIGNAL LINE'].shift())].index\n",
    "b,bd,s,sd = b.tolist(),bd.tolist(),s.tolist(),sd.tolist()"
   ]
  },
  {
   "cell_type": "code",
   "execution_count": 17,
   "metadata": {},
   "outputs": [],
   "source": [
    "money = 10000\n",
    "if bd[0]>sd[0]:\n",
    "    s.pop(0)\n",
    "    sd.pop(0)   \n",
    "if len(b)>len(s):\n",
    "    b.pop()\n",
    "    bd.pop() \n",
    "macdbuy = len(b)\n",
    "macdsell = len(s)\n",
    "pfmacd= []\n",
    "profitmacd = []\n",
    "for i in range(len(b)):\n",
    "    pfmacd.append(((s[i]-b[i])/(b[i]))*money)\n",
    "    profitmacd.append(((s[i]-b[i])/(b[i])))\n",
    "pfmacd = sum(pfmacd)"
   ]
  },
  {
   "cell_type": "code",
   "execution_count": 18,
   "metadata": {},
   "outputs": [
    {
     "output_type": "execute_result",
     "data": {
      "text/plain": [
       "10311.829034349825"
      ]
     },
     "metadata": {},
     "execution_count": 18
    }
   ],
   "source": [
    "pfmacd"
   ]
  },
  {
   "cell_type": "code",
   "execution_count": 19,
   "metadata": {},
   "outputs": [
    {
     "output_type": "stream",
     "name": "stdout",
     "text": [
      "13 31\n36 47\n65 74\n99 126\n127 134\n136 152\n165 177\n192 201\n222 239\n260 269\n273 298\n311 313\n314 340\n376 388\n417 445\n475 502\n505 512\n516 535\n549 570\n588 615\n644 682\n699 718\n724 742\n778 802\n826 829\n832 836\n841 876\n884 888\n895 908\n925 927\n938 940\n945 952\n960 963\n964 992\n1001 1010\n1013 1029\n1056 1075\n1096 1110\n1119 1148\n1155 1161\n1163 1173\n1187 1190\n1197 1207\n1235 1274\n1294 1310\n1319 1323\n1331 1333\n1344 1348\n1359 1367\n1371 1394\n1397 1431\n1463 1481\n1509 1510\n1532 1546\n1552 1573\n1575 1595\n1600 1602\n1623 1652\n1654 1666\n1679 1688\n1697 1703\n1709 1731\n1734 1739\n1749 1758\n1791 1812\n1826 1831\n1855 1880\n1884 1888\n1901 1911\n1932 1933\n1939 1950\n1961 1962\n1966 1982\n1984 1989\n1996 2028\n2042 2043\n2060 2081\n2090 2091\n2105 2111\n2122 2130\n2140 2166\n2171 2175\n2197 2211\n2236 2238\n2242 2262\n2272 2297\n2301 2302\n2313 2316\n2327 2359\n2380 2387\n2414 2418\n2429 2437\n2441 2442\n2443 2452\n2458 2461\n2468 2472\n2475 2490\n2504 2517\n2523 2525\n2542 2551\n2553 2555\n2556 2580\n2582 2601\n2626 2636\n2648 2657\n2658 2661\n2669 2686\n2709 2725\n2736 2747\n2754 2772\n2783 2784\n2803 2814\n2817 2833\n2840 2849\n2862 2864\n2876 2882\n2895 2899\n2908 2929\n2931 2951\n2973 2975\n2990 3006\n3009 3015\n3038 3066\n"
     ]
    }
   ],
   "source": [
    "for i in range(len(bd)):\n",
    "    print(bd[i],sd[i])"
   ]
  },
  {
   "cell_type": "code",
   "execution_count": 15,
   "metadata": {},
   "outputs": [
    {
     "output_type": "execute_result",
     "data": {
      "text/plain": [
       "True"
      ]
     },
     "metadata": {},
     "execution_count": 15
    }
   ],
   "source": []
  },
  {
   "cell_type": "code",
   "execution_count": null,
   "metadata": {},
   "outputs": [],
   "source": [
    "   df['signal']  = np.where((df['MACD']>df['SIGNAL LINE'])&(df['MACD'].shift()<df['SIGNAL LINE'].shift()),'buy',\n",
    "                                  (np.where((df['MACD'] < df['SIGNAL LINE'])  & (df['MACD'].shift()>df['SIGNAL LINE'].shift()),'sell','wait or hold')))\n",
    "        \n",
    "        for index,row in df.iterrows():\n",
    "            if row['signal'] == 'buy' and row['Signal'] == 'buy':\n",
    "                fitness += 1\n",
    "            elif row['signal'] == 'sell' and row['Signal'] == 'sell':\n",
    "                fitness += 1"
   ]
  }
 ]
}