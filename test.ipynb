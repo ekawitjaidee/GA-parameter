{
 "metadata": {
  "language_info": {
   "codemirror_mode": {
    "name": "ipython",
    "version": 3
   },
   "file_extension": ".py",
   "mimetype": "text/x-python",
   "name": "python",
   "nbconvert_exporter": "python",
   "pygments_lexer": "ipython3",
   "version": "3.7.7-final"
  },
  "orig_nbformat": 2,
  "kernelspec": {
   "name": "Python 3.7.7 64-bit ('base': conda)",
   "display_name": "Python 3.7.7 64-bit ('base': conda)",
   "metadata": {
    "interpreter": {
     "hash": "c5e48f84046969b800ff52f6d80523bcd1ca3fb1a99f1449e4197bf6c73dc096"
    }
   }
  }
 },
 "nbformat": 4,
 "nbformat_minor": 2,
 "cells": [
  {
   "cell_type": "code",
   "execution_count": 80,
   "metadata": {},
   "outputs": [],
   "source": [
    "from Indicator import Indicator \n",
    "import random\n",
    "import glob\n",
    "import numpy as np\n",
    "import pandas as pd\n",
    "import matplotlib.pyplot as plt\n",
    "\n",
    "\n",
    "datalist = [n for n in glob.glob('Dataset/*.csv')]\n",
    "indicator = Indicator()\n",
    "data = pd.read_csv(datalist[0],index_col = False)\n"
   ]
  },
  {
   "cell_type": "code",
   "execution_count": 51,
   "metadata": {},
   "outputs": [],
   "source": [
    "df = data\n",
    "df = indicator.MACD(df,12,26,9)\n",
    "a  = np.where((df['MACD']>df['SIGNAL LINE'])&(df['MACD'].shift()<df['SIGNAL LINE'].shift()),df['Close'],\n",
    "                                  (np.where((df['MACD'] < df['SIGNAL LINE'])  & (df['MACD'].shift()>df['SIGNAL LINE'].shift()),'sell',np.nan)))\n",
    "        "
   ]
  },
  {
   "cell_type": "code",
   "execution_count": 99,
   "metadata": {},
   "outputs": [],
   "source": [
    "b = df.loc[(df['MACD']>df['SIGNAL LINE'])&(df['MACD'].shift()<df['SIGNAL LINE'].shift())]['Close']\n",
    "bd = df.loc[(df['MACD']>df['SIGNAL LINE'])&(df['MACD'].shift()<df['SIGNAL LINE'].shift())].index\n",
    "\n",
    "s = df.loc[(df['MACD'] < df['SIGNAL LINE'])  & (df['MACD'].shift()>df['SIGNAL LINE'].shift())]['Close']\n",
    "sd = df.loc[(df['MACD'] < df['SIGNAL LINE'])  & (df['MACD'].shift()>df['SIGNAL LINE'].shift())].index\n",
    "b,bd,s,sd = b.tolist(),bd.tolist(),s.tolist(),sd.tolist()"
   ]
  },
  {
   "cell_type": "code",
   "execution_count": 70,
   "metadata": {},
   "outputs": [],
   "source": [
    "money = 10000\n",
    "if len(b)>len(s):\n",
    "    b.pop()\n",
    "else:\n",
    "    s.pop()    \n",
    "macdbuy = len(b)\n",
    "macdsell = len(s)\n",
    "pfmacd= []\n",
    "profitmacd = []\n",
    "for i in range(len(b)):\n",
    "    pfmacd.append(((s[i]-b[i])/(b[i]))*money)\n",
    "    profitmacd.append(((s[i]-b[i])/(b[i])))\n",
    "pfmacd = sum(pfmacd)"
   ]
  },
  {
   "cell_type": "code",
   "execution_count": 71,
   "metadata": {},
   "outputs": [
    {
     "output_type": "execute_result",
     "data": {
      "text/plain": [
       "8371.027811807"
      ]
     },
     "metadata": {},
     "execution_count": 71
    }
   ],
   "source": [
    "pfmacd"
   ]
  },
  {
   "cell_type": "code",
   "execution_count": 100,
   "metadata": {},
   "outputs": [
    {
     "output_type": "stream",
     "name": "stdout",
     "text": [
      "[2, 36, 64, 74, 102, 129, 159, 197, 210, 248, 251, 313, 354, 412, 442, 453, 486, 525, 581, 636, 661, 715, 763, 769, 778, 821, 832, 862, 875, 882, 897, 901, 938, 950, 993, 1033, 1056, 1092, 1100, 1124, 1134, 1172, 1231, 1256, 1268, 1281, 1296, 1308, 1334, 1400, 1446, 1469, 1489, 1512, 1537, 1560, 1591, 1616, 1634, 1646, 1671, 1686, 1728, 1763, 1792, 1821, 1838, 1869, 1876, 1898, 1903, 1921, 1933, 1979, 1997, 2027, 2042, 2059, 2077, 2108, 2134, 2173, 2179, 2209, 2238, 2250, 2264, 2317, 2351, 2366, 2378, 2380, 2395, 2405, 2412, 2441, 2460, 2479, 2490, 2493, 2519, 2563, 2585, 2595, 2606, 2646, 2673, 2691, 2720, 2740, 2754, 2777, 2799, 2813, 2832, 2845, 2868, 2910, 2927, 2946, 2975, 3017] [11, 63, 71, 89, 114, 138, 176, 206, 235, 250, 277, 325, 382, 439, 449, 472, 507, 552, 619, 655, 679, 739, 766, 773, 813, 825, 845, 864, 877, 889, 900, 929, 947, 966, 1012, 1047, 1085, 1098, 1110, 1127, 1144, 1211, 1247, 1260, 1270, 1285, 1304, 1331, 1368, 1418, 1447, 1483, 1510, 1532, 1539, 1589, 1603, 1625, 1640, 1668, 1676, 1695, 1749, 1768, 1817, 1825, 1848, 1870, 1887, 1899, 1919, 1926, 1965, 1980, 2018, 2028, 2048, 2067, 2103, 2112, 2148, 2175, 2199, 2234, 2239, 2253, 2296, 2324, 2355, 2374, 2379, 2389, 2398, 2409, 2427, 2454, 2462, 2488, 2492, 2517, 2538, 2573, 2594, 2598, 2623, 2662, 2684, 2709, 2721, 2751, 2770, 2786, 2801, 2819, 2836, 2866, 2888, 2912, 2943, 2952, 3003]\n"
     ]
    }
   ],
   "source": [
    "print(bd,sd)"
   ]
  },
  {
   "cell_type": "code",
   "execution_count": null,
   "metadata": {},
   "outputs": [],
   "source": []
  }
 ]
}